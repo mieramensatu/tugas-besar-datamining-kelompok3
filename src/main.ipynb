{
 "cells": [
  {
   "cell_type": "code",
   "execution_count": null,
   "id": "f4ab3c17",
   "metadata": {},
   "outputs": [],
   "source": [
    "print(\"📊 Menjalankan Exploratory Data Analysis (EDA)...\")\n",
    "%run ../notebook/EDA.ipynb"
   ]
  },
  {
   "cell_type": "code",
   "execution_count": null,
   "id": "f4c97d12",
   "metadata": {},
   "outputs": [],
   "source": [
    "print(\"🔄 Menjalankan Processing...\")\n",
    "%run ../notebook/Processing.ipynb"
   ]
  },
  {
   "cell_type": "code",
   "execution_count": null,
   "id": "f784b578",
   "metadata": {},
   "outputs": [],
   "source": [
    "print(\"🧠 Menjalankan Modeling Clustering...\")\n",
    "%run ../notebook/Modeling.ipynb"
   ]
  },
  {
   "cell_type": "code",
   "execution_count": null,
   "id": "3c9db4a2",
   "metadata": {},
   "outputs": [],
   "source": [
    "print(\"📈 Menjalankan Evaluasi Model...\")\n",
    "%run ../notebook/Evaluasi.ipynb\n",
    "\n",
    "print(\"✅ Selesai menjalankan semua tahapan pipeline!\")"
   ]
  }
 ],
 "metadata": {
  "kernelspec": {
   "display_name": "Python 3",
   "language": "python",
   "name": "python3"
  },
  "language_info": {
   "name": "python",
   "version": "3.11.9"
  }
 },
 "nbformat": 4,
 "nbformat_minor": 5
}
